{
 "cells": [
  {
   "cell_type": "markdown",
   "metadata": {},
   "source": [
    "# Heritability\n",
    "### Kelly Swarts\n",
    "## Heritability is central to genomic prediction (the upper bounds for predictive ability)\n",
    "## There are something like 52 ways to calculate heritability but one is to estimate the variance explained by the K matrix"
   ]
  },
  {
   "cell_type": "markdown",
   "metadata": {},
   "source": [
    "# 1.  Initial setup steps"
   ]
  },
  {
   "cell_type": "markdown",
   "metadata": {
    "pycharm": {
     "name": "#%% md\n"
    }
   },
   "source": [
    "## 1a. Prepare environment\n",
    "Loading packages and functions into R"
   ]
  },
  {
   "cell_type": "code",
   "metadata": {
    "pycharm": {
     "name": "#%%\n"
    }
   },
   "source": [
    "library(sommer) #Mixed effects models package\n",
    "library(rTASSEL)\n",
    "library(plot.matrix)\n",
    "options(repr.plot.width=12, repr.plot.height=5)## this sets a larger size for figures"
   ],
   "execution_count": null,
   "outputs": []
  },
  {
   "cell_type": "markdown",
   "metadata": {
    "pycharm": {
     "name": "#%% md\n"
    }
   },
   "source": [
    "## 1b. Define input variables"
   ]
  },
  {
   "cell_type": "code",
   "metadata": {
    "pycharm": {
     "name": "#%%\n"
    }
   },
   "source": [
    "# genotype data for maize and arabidopsis (in the \"hdf5\" format)\n",
    "default.par <- par()\n",
    "zmG <- readGenotypeTableFromPath(\"./data/282.poly_thinned30kbp.h5\")\n",
    "atG <- readGenotypeTableFromPath(\"./data/1001genomes_snp-short-indel_only_ACGTN.subsamp170_poly_minCov50_thinned30kpb.h5\")\n",
    "atGKO <- readGenotypeTableFromPath(\"./data/1001genomes_snp-short-indel_only_ACGTN.subsamp170_poly_minCov50_thinned30kpb_KOfri.h5\")\n",
    "# phenotype data for maize and arabidopsis\n",
    "zmP <- readPhenotypeFromPath(\"./data/282_traits.txt\")\n",
    "atP <- readPhenotypeFromPath(\"./data/Arabidopsis_Phenotypes.trait\")\n",
    "# summary info for maize and arabidopsis \n",
    "zmSS <- read.table(\"./data/282.poly_thinned30kbp_SiteSummary.txt\",header=T,as.is=T,sep=\"\\t\")\n",
    "atSS <- read.table(\"./data/1001genomes_snp-short-indel_only_ACGTN.subsamp170_poly_minCov50_thinned30kpb_SiteSummary.txt\",header=T,as.is=T,sep=\"\\t\")\n",
    "zmTS <- read.table(\"./data/282.poly_thinned30kbp_TaxaSummary.txt\",header=T,as.is=T,sep=\"\\t\")\n",
    "atTS <- read.table(\"./data/1001genomes_snp-short-indel_only_ACGTN.subsamp170_poly_minCov50_thinned30kpb_TaxaSummary.txt\",header=T,as.is=T,sep=\"\\t\")"
   ],
   "execution_count": null,
   "outputs": []
  },
  {
   "cell_type": "markdown",
   "metadata": {
    "pycharm": {
     "name": "#%% md\n"
    }
   },
   "source": [
    "# 2.  Generate K (kinship/genetic similarity) matrices\n",
    "### We will calculate these in two different ways, each with different assumptions regarding population expectations for inbreeding\n",
    "### \"Centered\" assumes Hardy-Weinburg and is calculated after J. Yang, S. H. Lee, M. E. Goddard, P. M. Visscher, GCTA: a tool for genome-wide complex trait analysis. Am. J. Hum. Genet. 88, 76–82 (2011).\n",
    "### \"Normalized\" allows for inbreeding and is calculated after J. B. Endelman, J.-L. Jannink, Shrinkage estimation of the realized relationship matrix. G3 . 2, 1405–1413 (2012)."
   ]
  },
  {
   "cell_type": "code",
   "metadata": {
    "pycharm": {
     "name": "#%%\n"
    }
   },
   "source": [
    "# Centered K matrix\n",
    "zm_cent <- kinshipMatrix(zmG,method = \"Centered_IBS\")\n",
    "zm_norm <- kinshipMatrix(zmG,method = \"Normalized_IBS\")\n",
    "at_cent <- kinshipMatrix(atG,method = \"Centered_IBS\")\n",
    "at_norm <- kinshipMatrix(atG,method = \"Normalized_IBS\")"
   ],
   "execution_count": null,
   "outputs": []
  },
  {
   "cell_type": "markdown",
   "metadata": {
    "pycharm": {
     "name": "#%% md\n"
    }
   },
   "source": [
    "# 3. Calculate heritability with package sommer, a really flexible generalized linear modelling package"
   ]
  },
  {
   "cell_type": "code",
   "execution_count": null,
   "metadata": {
    "scrolled": true
   },
   "outputs": [],
   "source": [
    "#arabidopsis\n",
    "atGP <- readGenotypePhenotype(genoPathOrObj = atG,phenoPathDFOrObj = atP)\n",
    "curP <- as.data.frame(getPhenotypeDF(tasObj = atGP)@listData)\n",
    "#flowering at 16 degrees\n",
    "atCent <- mmer(data=curP,mean_ft16~1,random=~vs(Taxa, Gu=kinshipToRMatrix(at_cent)))\n",
    "summary(atCent)\n",
    "print(paste(\"narrow sense heritability from the marker matrix:\",atCent$sigma[[1]]/(atCent$sigma[[1]]+atCent$sigma[[2]])))\n",
    "#flowering at 10 degrees\n",
    "atCent <- mmer(data=curP,mean_ft10~1,random=~vs(Taxa, Gu=kinshipToRMatrix(at_cent)))\n",
    "summary(atCent)\n",
    "print(paste(\"narrow sense heritability from the marker matrix:\",atCent$sigma[[1]]/(atCent$sigma[[1]]+atCent$sigma[[2]])))\n",
    "\n",
    "#maize\n",
    "zmGP <- readGenotypePhenotype(genoPathOrObj = zmG,phenoPathDFOrObj = zmP)\n",
    "curP <- as.data.frame(getPhenotypeDF(tasObj = zmGP)@listData)\n",
    "zmCent <- mmer(data=curP,DTA~1,random=~vs(Taxa, Gu=kinshipToRMatrix(zm_cent)))\n",
    "summary(zmCent)\n",
    "print(paste(\"narrow sense heritability from the marker matrix:\",zmCent$sigma[[1]]/(zmCent$sigma[[1]]+zmCent$sigma[[2]])))\n"
   ]
  },
  {
   "cell_type": "markdown",
   "metadata": {},
   "source": [
    "### Why might heritability differ? Is anything surprising?"
   ]
  },
  {
   "cell_type": "markdown",
   "source": [
    "# 4. Calculate heritability for only arabidopsis that doesn't require vernalization (contains a FRIGIDA deleterious variant). Why might these differ?\n",
    "atGP <- readGenotypePhenotype(genoPathOrObj = atGKO,phenoPathDFOrObj = atP)\n",
    "curP <- as.data.frame(getPhenotypeDF(tasObj = atGP)@listData)\n",
    "#flowering at 16 degrees\n",
    "atCent <- mmer(data=curP,mean_ft16~1,random=~vs(Taxa, Gu=kinshipToRMatrix(at_cent)))\n",
    "summary(atCent)\n",
    "print(paste(\"narrow sense heritability from the marker matrix:\",atCent$sigma[[1]]/(atCent$sigma[[1]]+atCent$sigma[[2]])))\n",
    "#flowering at 10 degrees\n",
    "atCent <- mmer(data=curP,mean_ft10~1,random=~vs(Taxa, Gu=kinshipToRMatrix(at_cent)))\n",
    "summary(atCent)\n",
    "print(paste(\"narrow sense heritability from the marker matrix:\",atCent$sigma[[1]]/(atCent$sigma[[1]]+atCent$sigma[[2]])))\n"
   ],
   "metadata": {
    "collapsed": false
   }
  },
  {
   "cell_type": "code",
   "metadata": {
    "pycharm": {
     "name": "#%%\n"
    }
   },
   "source": [],
   "execution_count": null,
   "outputs": []
  }
 ],
 "metadata": {
  "kernelspec": {
   "display_name": "R",
   "language": "R",
   "name": "ir"
  },
  "language_info": {
   "codemirror_mode": "r",
   "file_extension": ".r",
   "mimetype": "text/x-r-source",
   "name": "R",
   "pygments_lexer": "r",
   "version": "4.0.5"
  },
  "pycharm": {
   "stem_cell": {
    "cell_type": "raw",
    "source": [
     "setwd(\"/Users/kelly.swarts/Code/PyCharm/QuantGenForTeaching\")\n"
    ],
    "metadata": {
     "collapsed": false
    }
   }
  }
 },
 "nbformat": 4,
 "nbformat_minor": 4
}