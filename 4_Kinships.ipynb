{
 "cells": [
  {
   "cell_type": "markdown",
   "metadata": {},
   "source": [
    "# Exploring the K matrix!\n",
    "## In this notebook, we'll look a bit more closely at the K matrix and what it means\n",
    "### Topics we will cover:\n",
    "#### How to generate a K matrix\n",
    "#### What different formulations entail\n",
    "#### What does this look like in maize vs arabidopsis?"
   ]
  },
  {
   "cell_type": "markdown",
   "metadata": {},
   "source": [
    "# 1.  Initial setup steps"
   ]
  },
  {
   "cell_type": "markdown",
   "metadata": {
    "pycharm": {
     "name": "#%% md\n"
    }
   },
   "source": [
    "## 1a. Prepare environment\n",
    "Loading packages and functions into R"
   ]
  },
  {
   "cell_type": "code",
   "metadata": {
    "pycharm": {
     "name": "#%%\n"
    }
   },
   "source": [
    "library(sommer) #Mixed effects models package\n",
    "library(rTASSEL)\n",
    "library(plot.matrix)\n",
    "options(repr.plot.width=12, repr.plot.height=5)## this sets a larger size for figures"
   ],
   "execution_count": null,
   "outputs": []
  },
  {
   "cell_type": "markdown",
   "metadata": {
    "pycharm": {
     "name": "#%% md\n"
    }
   },
   "source": [
    "## 1b. Define input variables"
   ]
  },
  {
   "cell_type": "code",
   "metadata": {
    "pycharm": {
     "name": "#%%\n"
    }
   },
   "source": [
    "# genotype data for maize and arabidopsis (in the \"hdf5\" format)\n",
    "default.par <- par()\n",
    "zmG <- readGenotypeTableFromPath(\"./data/282.poly_thinned30kbp.h5\")\n",
    "atG <- readGenotypeTableFromPath(\"./data/1001genomes_snp-short-indel_only_ACGTN.subsamp170_poly_minCov50_thinned30kpb.h5\")\n",
    "# phenotype data for maize and arabidopsis\n",
    "zmP <- readPhenotypeFromPath(\"./data/282_traits.txt\")\n",
    "atP <- readPhenotypeFromPath(\"./data/Arabidopsis_Phenotypes.trait\")\n",
    "# summary info for maize and arabidopsis \n",
    "zmSS <- read.table(\"./data/282.poly_thinned30kbp_SiteSummary.txt\",header=T,as.is=T,sep=\"\\t\")\n",
    "atSS <- read.table(\"./data/1001genomes_snp-short-indel_only_ACGTN.subsamp170_poly_minCov50_thinned30kpb_SiteSummary.txt\",header=T,as.is=T,sep=\"\\t\")\n",
    "zmTS <- read.table(\"./data/282.poly_thinned30kbp_TaxaSummary.txt\",header=T,as.is=T,sep=\"\\t\")\n",
    "atTS <- read.table(\"./data/1001genomes_snp-short-indel_only_ACGTN.subsamp170_poly_minCov50_thinned30kpb_TaxaSummary.txt\",header=T,as.is=T,sep=\"\\t\")\n",
    "taxa <- c(\"P39:250040828\",\"Pa762:250040188\",\"Pa875:250039820\",\"NC230:250047946\",\"NC232:250040051\",\"NC236:250040160\")"
   ],
   "execution_count": null,
   "outputs": []
  },
  {
   "cell_type": "markdown",
   "metadata": {
    "pycharm": {
     "name": "#%% md\n"
    }
   },
   "source": [
    "# 2.  Generate K (kinship/genetic similarity) matrices for a small subset to compare\n",
    "### We will calculate these in two different ways, each with different assumptions regarding population expectations for inbreeding\n",
    "### \"Centered\" assumes Hardy-Weinburg and is calculated after J. Yang, S. H. Lee, M. E. Goddard, P. M. Visscher, GCTA: a tool for genome-wide complex trait analysis. Am. J. Hum. Genet. 88, 76–82 (2011)."
   ]
  },
  {
   "cell_type": "code",
   "metadata": {
    "pycharm": {
     "name": "#%%\n"
    }
   },
   "source": [
    "# Centered K matrix\n",
    "centered <- kinshipMatrix(filterGenotypeTableTaxa(zmG,taxa = taxa),method = \"Centered_IBS\")\n",
    "plot(kinshipToRMatrix(centered),main=\"centered K\",digits = 3,las=2,breaks = 36)"
   ],
   "execution_count": null,
   "outputs": []
  },
  {
   "cell_type": "markdown",
   "metadata": {
    "pycharm": {
     "name": "#%% md\n"
    }
   },
   "source": [
    "### \"Normalized\" allows for inbreeding and is calculated after J. B. Endelman, J.-L. Jannink, Shrinkage estimation of the realized relationship matrix. G3 . 2, 1405–1413 (2012)."
   ]
  },
  {
   "cell_type": "code",
   "execution_count": null,
   "metadata": {
    "scrolled": true
   },
   "outputs": [],
   "source": [
    "# Normalized K matrix\n",
    "normalized <- kinshipMatrix(filterGenotypeTableTaxa(zmG,taxa = taxa),method = \"Normalized_IBS\")\n",
    "plot(kinshipToRMatrix(normalized),main=\"normalized K\",digits = 3,las=2,breaks = 36)\n",
    "par(default.par)"
   ]
  },
  {
   "cell_type": "markdown",
   "metadata": {},
   "source": [
    "### Both of these differ from an \"IBS Distance Matrix\" in that they are similarity matrices that account for population allele frequencies. Why does this matter?"
   ]
  },
  {
   "cell_type": "code",
   "metadata": {
    "pycharm": {
     "name": "#%%\n"
    }
   },
   "source": [
    "# IBS Distance matrix\n",
    "ibsDist <- distanceMatrix(filterGenotypeTableTaxa(zmG,taxa = taxa))\n",
    "plot(distanceToRMatrix(ibsDist),main=\"IBS distance\",digits = 3,las=2,breaks = 36)"
   ],
   "execution_count": null,
   "outputs": []
  },
  {
   "cell_type": "markdown",
   "metadata": {
    "pycharm": {
     "name": "#%% md\n"
    }
   },
   "source": [
    "# 3.  A special property of the normalized K matrix is that the mean of the diagonal (the \"trace\", representing the relationship of each line to itself) equals 1 + f. What is it for this population?"
   ]
  },
  {
   "cell_type": "code",
   "metadata": {
    "pycharm": {
     "name": "#%%\n"
    }
   },
   "source": [
    "mean(diag(kinshipToRMatrix(normalized)))"
   ],
   "execution_count": null,
   "outputs": []
  },
  {
   "cell_type": "markdown",
   "metadata": {},
   "source": [
    "# 4.  What happens when you subset the individuals included? Do the values change? Why?"
   ]
  },
  {
   "cell_type": "code",
   "execution_count": null,
   "metadata": {},
   "outputs": [],
   "source": [
    "# With only three individuals\n",
    "taxa <- c(\"P39:250040828\",\"Pa875:250039820\",\"NC232:250040051\")\n",
    "# IBS Distance matrix\n",
    "ibsDist <- distanceMatrix(filterGenotypeTableTaxa(zmG,taxa = taxa))\n",
    "plot(distanceToRMatrix(ibsDist),main=\"IBS distance\",digits = 3,las=2,breaks = 36)\n",
    "# Centered K matrix\n",
    "centered <- kinshipMatrix(filterGenotypeTableTaxa(zmG,taxa = taxa),method = \"Centered_IBS\")\n",
    "plot(kinshipToRMatrix(centered),main=\"centered K\",digits = 3,las=2,breaks = 36)\n",
    "# Normalized K matrix\n",
    "normalized <- kinshipMatrix(filterGenotypeTableTaxa(zmG,taxa = taxa),method = \"Normalized_IBS\")\n",
    "plot(kinshipToRMatrix(normalized),main=\"normalized K\",digits = 3,las=2,breaks = 36)\n",
    "mean(diag(kinshipToRMatrix(normalized)))\n",
    "par(default.par)"
   ]
  },
  {
   "cell_type": "markdown",
   "metadata": {},
   "source": [
    "# 5.  We'll look at all the individuals now. How do the diagonals differ?"
   ]
  },
  {
   "cell_type": "code",
   "execution_count": null,
   "metadata": {
    "scrolled": true
   },
   "outputs": [],
   "source": [
    "centered <- kinshipMatrix(zmG,method = \"Centered_IBS\")\n",
    "normalized <- kinshipMatrix(zmG,method = \"Normalized_IBS\")\n",
    "# Look at the diagonal as a histogram\n",
    "hist(diag(kinshipToRMatrix(centered)),breaks = 30,xlab=\"Calculated relationship of each line to itself\",main=\"Trace of centered K matrix\",col = \"firebrick\")\n",
    "hist(diag(kinshipToRMatrix(normalized)),breaks = 30,xlab=\"Calculated relationship of each line to itself\",main=\"Trace of normalized K matrix\",col = \"blue\")"
   ]
  },
  {
   "cell_type": "markdown",
   "metadata": {},
   "source": [
    "## What is the heterozygosity for the population?"
   ]
  },
  {
   "cell_type": "code",
   "execution_count": null,
   "metadata": {
    "scrolled": true
   },
   "outputs": [],
   "source": [
    "# What is the heterozygosity for the population?\n",
    "hist(zmTS$Proportion.Heterozygous,breaks=30,main=\"Heterozygosity in maize\",xlab=\"Proportion heterozygous\",col=\"darkgreen\")"
   ]
  },
  {
   "cell_type": "markdown",
   "metadata": {},
   "source": [
    "## check the inbreeding coefficient for the whole population"
   ]
  },
  {
   "cell_type": "code",
   "execution_count": null,
   "metadata": {
    "scrolled": false
   },
   "outputs": [],
   "source": [
    "mean(diag(kinshipToRMatrix(normalized)))"
   ]
  },
  {
   "cell_type": "markdown",
   "metadata": {},
   "source": [
    "# 6. Let's look at the Arabidopsis population."
   ]
  },
  {
   "cell_type": "code",
   "execution_count": null,
   "outputs": [],
   "source": [
    "centered <- kinshipMatrix(atG,method = \"Centered_IBS\")\n",
    "normalized <- kinshipMatrix(atG,method = \"Normalized_IBS\")\n",
    "# Look at the diagonal as a histogram\n",
    "hist(diag(kinshipToRMatrix(centered)),breaks = 30,xlab=\"Calculated relationship of each line to itself\",main=\"Trace of centered K matrix\",col = \"firebrick\")\n",
    "hist(diag(kinshipToRMatrix(normalized)),breaks = 30,xlab=\"Calculated relationship of each line to itself\",main=\"Trace of normalized K matrix\",col = \"blue\")"
   ],
   "metadata": {
    "collapsed": false,
    "pycharm": {
     "name": "#%%\n"
    }
   }
  },
  {
   "cell_type": "markdown",
   "source": [
    "## What is the heterozygosity for the population?"
   ],
   "metadata": {
    "collapsed": false
   }
  },
  {
   "cell_type": "code",
   "execution_count": null,
   "outputs": [],
   "source": [
    "summary(atTS$Proportion.Heterozygous)"
   ],
   "metadata": {
    "collapsed": false,
    "pycharm": {
     "name": "#%%\n"
    }
   }
  },
  {
   "cell_type": "markdown",
   "source": [
    "## check the inbreeding coefficient for the whole population"
   ],
   "metadata": {
    "collapsed": false
   }
  },
  {
   "cell_type": "code",
   "execution_count": null,
   "outputs": [],
   "source": [
    "mean(diag(kinshipToRMatrix(normalized)))"
   ],
   "metadata": {
    "collapsed": false,
    "pycharm": {
     "name": "#%%\n"
    }
   }
  },
  {
   "cell_type": "markdown",
   "source": [
    "# 7. We know MAF is important for generating the K matrix. How does Arabidopsis compare to maize?"
   ],
   "metadata": {
    "collapsed": false
   }
  },
  {
   "cell_type": "code",
   "execution_count": null,
   "outputs": [],
   "source": [
    "# maize\n",
    "hist(atSS$Minor.Allele.Frequency,col=\"#00ff0080\",freq = F,main=\"Folded site frequency spectrum (SFS)\",xlab=\"MAF\")\n",
    "hist(zmSS$Minor.Allele.Frequency,col=\"#ff000080\",add=T,freq = F)\n",
    "legend(\"topright\",legend = c(\"arabidopsis\",\"maize\"),fill=c(\"#00ff0080\",\"#ff000080\"))"
   ],
   "metadata": {
    "collapsed": false,
    "pycharm": {
     "name": "#%%\n"
    }
   }
  },
  {
   "cell_type": "markdown",
   "source": [
    "## What does this mean for calculating relatedness in the population?\n"
   ],
   "metadata": {
    "collapsed": false
   }
  }
 ],
 "metadata": {
  "kernelspec": {
   "display_name": "R",
   "language": "R",
   "name": "ir"
  },
  "language_info": {
   "codemirror_mode": "r",
   "file_extension": ".r",
   "mimetype": "text/x-r-source",
   "name": "R",
   "pygments_lexer": "r",
   "version": "4.0.5"
  },
  "pycharm": {
   "stem_cell": {
    "cell_type": "raw",
    "source": [
     "setwd(\"/Users/kelly.swarts/Code/PyCharm/QuantGenForTeaching\")\n"
    ],
    "metadata": {
     "collapsed": false
    }
   }
  }
 },
 "nbformat": 4,
 "nbformat_minor": 4
}