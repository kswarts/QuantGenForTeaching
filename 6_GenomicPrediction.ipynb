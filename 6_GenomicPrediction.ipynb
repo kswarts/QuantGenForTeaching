{
 "cells": [
  {
   "cell_type": "markdown",
   "metadata": {},
   "source": [
    "# Genomic Prediction\n",
    "### Kelly Swarts\n",
    "## Use genomic information to predict phenotypes\n",
    "## The K matrix shrinks information from all the markers to solve the NP problem - what is this?\n",
    "## "
   ]
  },
  {
   "cell_type": "markdown",
   "metadata": {},
   "source": [
    "# 1.  Initial setup steps"
   ]
  },
  {
   "cell_type": "markdown",
   "metadata": {
    "pycharm": {
     "name": "#%% md\n"
    }
   },
   "source": [
    "## 1a. Prepare environment\n",
    "Loading packages and functions into R"
   ]
  },
  {
   "cell_type": "code",
   "metadata": {
    "pycharm": {
     "name": "#%%\n"
    }
   },
   "source": [
    "library(rTASSEL)\n",
    "library(plot.matrix)\n",
    "options(repr.plot.width=12, repr.plot.height=5)## this sets a larger size for figures"
   ],
   "execution_count": null,
   "outputs": []
  },
  {
   "cell_type": "markdown",
   "metadata": {
    "pycharm": {
     "name": "#%% md\n"
    }
   },
   "source": [
    "## 1b. Define input variables"
   ]
  },
  {
   "cell_type": "code",
   "metadata": {
    "pycharm": {
     "name": "#%%\n"
    }
   },
   "source": [
    "# genotype data for maize and arabidopsis (in the \"hdf5\" format)\n",
    "default.par <- par()\n",
    "zmG <- readGenotypeTableFromPath(\"./data/282.poly_thinned30kbp.h5\")\n",
    "atG <- readGenotypeTableFromPath(\"./data/1001genomes_snp-short-indel_only_ACGTN.subsamp170_poly_minCov50_thinned30kpb.h5\")\n",
    "atGKO <- readGenotypeTableFromPath(\"./data/1001genomes_snp-short-indel_only_ACGTN.subsamp170_poly_minCov50_thinned30kpb_KOfri.h5\")\n",
    "# phenotype data for maize and arabidopsis\n",
    "zmP <- readPhenotypeFromPath(\"./data/282_traits.txt\")\n",
    "atP <- readPhenotypeFromPath(\"./data/Arabidopsis_Phenotypes.trait\")\n",
    "# summary info for maize and arabidopsis \n",
    "zmSS <- read.table(\"./data/282.poly_thinned30kbp_SiteSummary.txt\",header=T,as.is=T,sep=\"\\t\")\n",
    "atSS <- read.table(\"./data/1001genomes_snp-short-indel_only_ACGTN.subsamp170_poly_minCov50_thinned30kpb_SiteSummary.txt\",header=T,as.is=T,sep=\"\\t\")\n",
    "zmTS <- read.table(\"./data/282.poly_thinned30kbp_TaxaSummary.txt\",header=T,as.is=T,sep=\"\\t\")\n",
    "atTS <- read.table(\"./data/1001genomes_snp-short-indel_only_ACGTN.subsamp170_poly_minCov50_thinned30kpb_TaxaSummary.txt\",header=T,as.is=T,sep=\"\\t\")"
   ],
   "execution_count": null,
   "outputs": []
  },
  {
   "cell_type": "markdown",
   "metadata": {
    "pycharm": {
     "name": "#%% md\n"
    }
   },
   "source": [
    "# 2.  Generate K (kinship/genetic similarity) matrices\n",
    "### We will calculate these in two different ways, each with different assumptions regarding population expectations for inbreeding\n",
    "### \"Centered\" assumes Hardy-Weinburg and is calculated after J. Yang, S. H. Lee, M. E. Goddard, P. M. Visscher, GCTA: a tool for genome-wide complex trait analysis. Am. J. Hum. Genet. 88, 76–82 (2011).\n",
    "### \"Normalized\" allows for inbreeding and is calculated after J. B. Endelman, J.-L. Jannink, Shrinkage estimation of the realized relationship matrix. G3 . 2, 1405–1413 (2012)."
   ]
  },
  {
   "cell_type": "code",
   "metadata": {
    "pycharm": {
     "name": "#%%\n"
    }
   },
   "source": [
    "# Centered K matrix\n",
    "zm_cent <- kinshipMatrix(zmG,method = \"Centered_IBS\")\n",
    "zm_norm <- kinshipMatrix(zmG,method = \"Normalized_IBS\")\n",
    "at_cent <- kinshipMatrix(atG,method = \"Centered_IBS\")\n",
    "at_norm <- kinshipMatrix(atG,method = \"Normalized_IBS\")"
   ],
   "execution_count": null,
   "outputs": []
  },
  {
   "cell_type": "markdown",
   "metadata": {
    "pycharm": {
     "name": "#%% md\n"
    }
   },
   "source": [
    "# 3. Genomic prediction (GBLUP)\n",
    "## These results are 5-fold cross validated with 10 reps. What does this mean?"
   ]
  },
  {
   "cell_type": "code",
   "execution_count": null,
   "metadata": {
    "scrolled": true
   },
   "outputs": [],
   "source": [
    "colsK <- c(\"#c65999\",\"#7aa456\")\n",
    "#arabidopsis\n",
    "atPredN <- genomicPrediction(tasPhenoObj = atP, kinship = at_norm, doCV = T,kFolds = 5,nIter = 10)\n",
    "atPredC <- genomicPrediction(tasPhenoObj = atP, kinship = at_cent, doCV = T,kFolds = 5,nIter = 10)\n",
    "#flowering at 16 degrees\n",
    "ft16 <- list(\"normalized_ft16\"=atPredN[which(atPredN$Trait==\"mean_ft16\"),\"Accuracy\"],\"centered_ft16\"=atPredC[which(atPredC$Trait==\"mean_ft16\"),\"Accuracy\"])\n",
    "boxplot(ft16,col=colsK,main=\"16 degree flowering (A. thaliana)\",las=2)"
   ]
  },
  {
   "cell_type": "markdown",
   "metadata": {},
   "source": [
    "## Does kinship matter?"
   ]
  },
  {
   "cell_type": "code",
   "source": [
    "#flowering at 10 degrees\n",
    "ft10 <- list(\"normalized_ft10\"=atPredN[which(atPredN$Trait==\"mean_ft10\"),\"Accuracy\"],\"centered_ft10\"=atPredC[which(atPredC$Trait==\"mean_ft10\"),\"Accuracy\"])\n",
    "boxplot(ft10,col=colsK,main=\"10 degree flowering (A. thaliana)\",las=2,ylab=\"Predictive ability\")\n",
    "boxplot(c(ft10,ft16),col=colsK,main=\"Flowering (A. thaliana)\",las=2,ylab=\"Predictive ability\")"
   ],
   "metadata": {
    "collapsed": false,
    "pycharm": {
     "name": "#%%\n"
    }
   },
   "execution_count": null,
   "outputs": []
  },
  {
   "cell_type": "markdown",
   "source": [
    "## What was the heritability? Are these results surprising?"
   ],
   "metadata": {
    "collapsed": false
   }
  },
  {
   "cell_type": "code",
   "execution_count": null,
   "outputs": [],
   "source": [
    "#maize\n",
    "zmPredN <- genomicPrediction(tasPhenoObj = zmP, kinship = zm_norm, doCV = T,kFolds = 5,nIter = 10)\n",
    "zmPredC <- genomicPrediction(tasPhenoObj = zmP, kinship = zm_cent, doCV = T,kFolds = 5,nIter = 10)\n",
    "#flowering (DTA)\n",
    "dta <- list(\"normalized_dta\"=zmPredN[which(zmPredN$Trait==\"DTA\"),\"Accuracy\"],\"centered_dta\"=zmPredC[which(zmPredC$Trait==\"DTA\"),\"Accuracy\"])\n",
    "boxplot(dta,col=colsK,main=\"DTA (Z. mays)\",las=2,ylab=\"Predictive ability\")"
   ],
   "metadata": {
    "collapsed": false,
    "pycharm": {
     "name": "#%%\n"
    }
   }
  },
  {
   "cell_type": "markdown",
   "source": [
    "## What is the heritability for flowering in maize? Why do you think this is different than in arabidopsis?"
   ],
   "metadata": {
    "collapsed": false
   }
  },
  {
   "cell_type": "code",
   "execution_count": null,
   "outputs": [],
   "source": [
    "#flowering (DTA)\n",
    "dta <- list(\"normalized_dta\"=zmPredN[which(zmPredN$Trait==\"DTA\"),\"Accuracy\"],\"centered_dta\"=zmPredC[which(zmPredC$Trait==\"DTA\"),\"Accuracy\"])\n",
    "boxplot(dta,col=colsK,main=\"DTA (Z. mays)\",las=2,ylab=\"Predictive ability\")"
   ],
   "metadata": {
    "collapsed": false,
    "pycharm": {
     "name": "#%%\n"
    }
   }
  },
  {
   "cell_type": "markdown",
   "source": [
    "## What was the heritability? Are these results surprising?"
   ],
   "metadata": {
    "collapsed": false
   }
  },
  {
   "cell_type": "code",
   "execution_count": null,
   "outputs": [],
   "source": [
    "#maize FER\n",
    "fer <- list(\"normalized_fer\"=zmPredN[which(zmPredN$Trait==\"FER\"),\"Accuracy\"],\"centered_fer\"=zmPredC[which(zmPredC$Trait==\"FER\"),\"Accuracy\"])\n",
    "boxplot(fer,col=colsK,main=\"FER (Z. mays)\",las=2,ylab=\"Predictive ability\")\n",
    "\n"
   ],
   "metadata": {
    "collapsed": false,
    "pycharm": {
     "name": "#%%\n"
    }
   }
  }
 ],
 "metadata": {
  "kernelspec": {
   "display_name": "R",
   "language": "R",
   "name": "ir"
  },
  "language_info": {
   "codemirror_mode": "r",
   "file_extension": ".r",
   "mimetype": "text/x-r-source",
   "name": "R",
   "pygments_lexer": "r",
   "version": "4.0.5"
  },
  "pycharm": {
   "stem_cell": {
    "cell_type": "raw",
    "source": [],
    "metadata": {
     "collapsed": false
    }
   }
  }
 },
 "nbformat": 4,
 "nbformat_minor": 4
}