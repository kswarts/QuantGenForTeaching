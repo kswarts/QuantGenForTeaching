{
 "cells": [
  {
   "cell_type": "markdown",
   "metadata": {},
   "source": [
    "# Phenotype Exploration\n",
    "### Daniele Filiault\n",
    "## This notebook helps us understand the phenotype we are using for GWAS\n",
    "\n",
    "A GWAS is only as good as the phenotype that you use.  We will make two simple plots that can help us understand our phenotype better before we run GWAS.\n",
    "\n",
    "The trait we will work on together is the flowering time of 200 *Arabidopsis thaliana* accessions (genotyped individuals) grown at 16 degrees in a growth chamber. (This is a subset of a much larger dataset: https://doi.org/10.1016/j.cell.2016.05.063).  The phenotype is the number of days between seed planting and the opening of the first flower.  The values we are using are the means of multiple replicates, which is why we observe partial days in the data."
   ]
  },
  {
   "cell_type": "markdown",
   "metadata": {},
   "source": [
    "# 1.  Initial setup steps"
   ]
  },
  {
   "cell_type": "markdown",
   "metadata": {},
   "source": [
    "## 1a. Prepare environment\n",
    "Loading packages and functions into R"
   ]
  },
  {
   "cell_type": "code",
   "execution_count": null,
   "metadata": {},
   "outputs": [],
   "source": [
    "library(ggplot2) #both packages are used for making maps\n",
    "library(maps)"
   ]
  },
  {
   "cell_type": "markdown",
   "metadata": {},
   "source": [
    "## 1b. Define input variables\n"
   ]
  },
  {
   "cell_type": "code",
   "execution_count": null,
   "metadata": {},
   "outputs": [],
   "source": [
    "# the phenotypes\n",
    "pheno.file <- (\"./data/subset_flowering_time_16.csv\") # two columns giving ecotypeid and phenotype\n",
    "\n",
    "# the collection location for each accession (latitude and longitude)\n",
    "# (an accession is a plant whose genotype we know.  For A. thaliana, these were originally collected from the field.)\n",
    "accession.pos.file <- (\"./data/accession_geo_locations.csv\") # 5 columns: ecotypeid, collection location name, country, latitude, and longitude for all accession in the 1001 genomes dataset"
   ]
  },
  {
   "cell_type": "markdown",
   "metadata": {},
   "source": [
    "# 2.  Distribution of phenotypic values\n",
    "\n",
    "Is it sensible to use this data in a mixed linear model GWAS?  General questions to ask about a trait include: Is the trait quantitative?  Is the distribution likely to result in normally-distributed residuals in the linear model we use for GWAS?  A simple histogram is a good first check."
   ]
  },
  {
   "cell_type": "code",
   "execution_count": null,
   "metadata": {},
   "outputs": [],
   "source": [
    "# load phenotype data\n",
    "pheno <- read.csv(pheno.file)\n",
    "\n",
    "# check format of data\n",
    "dim(pheno)\n",
    "head(pheno)\n",
    "\n",
    "# make a histogram\n",
    "pheno.name <- colnames(pheno)[2]\n",
    "hist(pheno[,2],xlab=pheno.name, main=paste(\"Histogram of \",pheno.name, sep=\"\"),col=\"blue\")\n"
   ]
  },
  {
   "cell_type": "markdown",
   "metadata": {},
   "source": [
    "### Although the flowering time data doesn't have a beautiful normal distribution, we would consider it \"close enough\" to use in GWAS."
   ]
  },
  {
   "cell_type": "markdown",
   "metadata": {},
   "source": [
    "## 3.  Geographic distribution of trait values.\n",
    "How much of a problem will population structure likely be?\n",
    "\n",
    "In *Arabidopsis thaliana*, accessions that are geographically close tend to be more closely related than those that are further apart.  Another way of saying this is that population structure in the species largely reflects geography.  Strong geographic patterns in phenotypic values can therefore be a warning sign that population structure confounding will be high in an *A. thaliana* GWAS, so let's plot phenotypic values on a map to look for concerning patterns in our data."
   ]
  },
  {
   "cell_type": "code",
   "execution_count": null,
   "metadata": {},
   "outputs": [],
   "source": [
    "# read in accession origin data\n",
    "pos <- read.csv(accession.pos.file, stringsAsFactors=TRUE, header=TRUE)\n",
    "\n",
    "# merge this data with the phenotype variable\n",
    "pheno <- merge(pheno, pos)\n",
    "head(pheno)\n"
   ]
  },
  {
   "cell_type": "code",
   "execution_count": null,
   "metadata": {},
   "outputs": [],
   "source": [
    "# download map data\n",
    "world_map <- map_data(\"world\")\n",
    "# plot map using ggplot2 package\n",
    "europe_map <- ggplot(world_map, aes(x = long, y = lat, group = group)) +\n",
    "  geom_polygon(fill=\"lightgray\", colour = \"white\") +\n",
    "  xlim(-13,25) +\n",
    "  ylim(35, 66) +\n",
    "  geom_point(data=pheno, aes(x = longitude, y=latitude, colour=get(pheno.name)),inherit.aes = FALSE) +\n",
    "  labs(colour=pheno.name) +\n",
    "  scale_color_gradient(low = \"blue\", high = \"red\") +\n",
    "  theme(text = element_text(size = 18)) +\n",
    "  theme_bw()\n",
    " \n",
    "options(repr.plot.width=9, repr.plot.height=8)\n",
    "europe_map"
   ]
  },
  {
   "cell_type": "markdown",
   "metadata": {},
   "source": [
    " ### Given the strong geographic pattern in flowering time, I would predict that we will observe very strong population structure confounding for this trait!  We will look at this prediction more closely in notebook 3.\n",
    " ## But first we need to run the GWAS, so let's move on to 2_GWAS.ipynb where we will do just that."
   ]
  }
 ],
 "metadata": {
  "kernelspec": {
   "display_name": "R",
   "language": "R",
   "name": "ir"
  },
  "language_info": {
   "codemirror_mode": "r",
   "file_extension": ".r",
   "mimetype": "text/x-r-source",
   "name": "R",
   "pygments_lexer": "r",
   "version": "4.0.5"
  },
  "pycharm": {
   "stem_cell": {
    "cell_type": "raw",
    "source": [],
    "metadata": {
     "collapsed": false
    }
   }
  }
 },
 "nbformat": 4,
 "nbformat_minor": 4
}