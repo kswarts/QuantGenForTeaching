{
 "cells": [
  {
   "cell_type": "markdown",
   "metadata": {},
   "source": [
    "# Running a Jupyter notebook"
   ]
  },
  {
   "cell_type": "markdown",
   "metadata": {},
   "source": [
    "This practical was designed by Daniele Filiault and extended by Kelly Swarts. It uses Jupyter notebooks, which are a great tool to organize, explain, and share your computational analyses and conclusions.  Jupyter notebooks can handle many coding languages, including R and python, both of which we will use today.  \n",
    "\n",
    "### Let's spend a few minutes understanding how to navigate a Jupyter notebook."
   ]
  },
  {
   "cell_type": "markdown",
   "metadata": {},
   "source": [
    "## 1. Each one of these windows is a cell.  A cell can be one of two types:\n",
    "\n",
    "1. _Markdown_ - used for typing text (m)\n",
    "2. _Code_ - used for entering and running code (y)\n",
    "\n",
    "Select this cell, press esc, and then press m (markdown) and then y (code).  The color coding changes, and in\n",
    "code mode (y), you will see In [ ]: next to the window.  End in markdown mode (m), then press shift-return.\n"
   ]
  },
  {
   "cell_type": "markdown",
   "metadata": {},
   "source": [
    "## 2. To run a cell, press shift-return\n",
    "\n",
    "Try changing the cell types of these first windows and running them.  \n",
    "If you try to run these cells in code (y) mode, you will get errors."
   ]
  },
  {
   "cell_type": "markdown",
   "metadata": {},
   "source": [
    "## 3. Cells can either be in editing or command mode\n",
    "\n",
    "#### When you pressed **esc** above, you put the cell into command mode. \n",
    "\n",
    "In **command mode** (blue outlined cell), you can command the entire cell.  For example, you can move up and down between cells with the arrow keys and change the cell type with m and y (as we have seen).\n",
    "\n",
    "#### If you press **enter** (or double click), you go into edit mode.\n",
    "\n",
    "In **edit mode** (green outlined cell), you can edit cell contents.  \n",
    "\n",
    "#### Try switching this cell between command and edit modes."
   ]
  },
  {
   "cell_type": "markdown",
   "metadata": {},
   "source": [
    "## 4. To get a new cell, press esc to get into command mode and then A or B, depending on whether you want a cell above or below the current one.\n",
    "\n",
    "Try adding some blank cells.  To erase a cell, click on it, hit esc to get into command mode, and press dd"
   ]
  },
  {
   "cell_type": "markdown",
   "metadata": {},
   "source": [
    "## 5. Now let's run some code.\n",
    "\n",
    "Notebooks have a kernel - the underlying process that actually runs the code.  For this notebook, the kernel is R, but we will also use a python kernel later today.  If you get a message about the kernel crashing or needing to restart, don't panic.  Any variables you have already set will be lost, but you will be able to easily restarst the kernel and rerun the code to get them back.  If this happens, just let me know!\n",
    "\n",
    "Run the following code cells by pressing shift-return. \n",
    "\n",
    "While a code cell is running, an asterisk will appear in the brackets to the left of the cell.  When it is done, a number will appear inside the brackets to denote the order in which the cell was run."
   ]
  },
  {
   "cell_type": "code",
   "execution_count": null,
   "metadata": {},
   "outputs": [],
   "source": [
    "## This is a code cell\n",
    "\n",
    "genotype <- seq(1,15,1)\n",
    "print(genotype)"
   ]
  },
  {
   "cell_type": "code",
   "execution_count": null,
   "metadata": {},
   "outputs": [],
   "source": [
    "phenotype <- sample(1:20,15, replace=TRUE)\n",
    "print(phenotype)"
   ]
  },
  {
   "cell_type": "code",
   "execution_count": null,
   "metadata": {},
   "outputs": [],
   "source": [
    "## What happens if we make a plot?\n",
    "\n",
    "plot(genotype, phenotype)"
   ]
  },
  {
   "cell_type": "markdown",
   "metadata": {},
   "source": [
    "## That's it!  Now we're ready to start with notebook 1_phenotype_exploration.ipynb.\n",
    "\n"
   ]
  }
 ],
 "metadata": {
  "kernelspec": {
   "display_name": "R",
   "language": "R",
   "name": "ir"
  },
  "language_info": {
   "codemirror_mode": "r",
   "file_extension": ".r",
   "mimetype": "text/x-r-source",
   "name": "R",
   "pygments_lexer": "r",
   "version": "4.0.5"
  },
  "pycharm": {
   "stem_cell": {
    "cell_type": "raw",
    "source": [],
    "metadata": {
     "collapsed": false
    }
   }
  }
 },
 "nbformat": 4,
 "nbformat_minor": 4
}